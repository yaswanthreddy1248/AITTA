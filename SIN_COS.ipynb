{
  "nbformat": 4,
  "nbformat_minor": 0,
  "metadata": {
    "colab": {
      "name": "Untitled0.ipynb",
      "provenance": [],
      "authorship_tag": "ABX9TyO4N1aOdLXfzVOL4PlMVYOa",
      "include_colab_link": true
    },
    "kernelspec": {
      "name": "python3",
      "display_name": "Python 3"
    }
  },
  "cells": [
    {
      "cell_type": "markdown",
      "metadata": {
        "id": "view-in-github",
        "colab_type": "text"
      },
      "source": [
        "<a href=\"https://colab.research.google.com/github/yaswanthreddy1248/AITTA/blob/main/SIN_COS.ipynb\" target=\"_parent\"><img src=\"https://colab.research.google.com/assets/colab-badge.svg\" alt=\"Open In Colab\"/></a>"
      ]
    },
    {
      "cell_type": "code",
      "metadata": {
        "id": "IMWcrGm7a5Nc"
      },
      "source": [
        "import matplatlib.pyplot as plt\r\n",
        "import numpy np\r\n",
        "x=np.lnspace(1,20,100)\r\n",
        "plt.plot(x,np.sin(x))\r\n",
        "np.plot(x,np.cos(x))\r\n",
        "plt.show()\r\n"
      ],
      "execution_count": null,
      "outputs": []
    }
  ]
}