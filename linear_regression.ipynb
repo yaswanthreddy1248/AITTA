{
  "nbformat": 4,
  "nbformat_minor": 0,
  "metadata": {
    "colab": {
      "name": "Untitled3.ipynb",
      "provenance": [],
      "authorship_tag": "ABX9TyNx/0jviPomLnzhRZm1ulD1",
      "include_colab_link": true
    },
    "kernelspec": {
      "name": "python3",
      "display_name": "Python 3"
    }
  },
  "cells": [
    {
      "cell_type": "markdown",
      "metadata": {
        "id": "view-in-github",
        "colab_type": "text"
      },
      "source": [
        "<a href=\"https://colab.research.google.com/github/yaswanthreddy1248/AITTA/blob/main/linear_regression.ipynb\" target=\"_parent\"><img src=\"https://colab.research.google.com/assets/colab-badge.svg\" alt=\"Open In Colab\"/></a>"
      ]
    },
    {
      "cell_type": "code",
      "metadata": {
        "id": "vN3DzFLOELzq"
      },
      "source": [
        "#importing libraries\r\n",
        "import numpy as np\r\n",
        "import pandas as pd\r\n",
        "import matplotlib.pyplot as plt\r\n",
        "\r\n",
        "from google.colab import files\r\n",
        "uploaded = files.upload()\r\n",
        "\r\n",
        "df = pd.read_csv(\"ex1data1.csv\", index_col=[0])\r\n",
        "df\r\n",
        "\r\n",
        "#getting data from the file and separating it as input(x) and output\r\n",
        "x = df.iloc[:,0]\r\n",
        "#read second column profit as output\r\n",
        "y = df.iloc[:,1]\r\n",
        "#m is number of training examples\r\n",
        "m = len(y)\r\n",
        "#viewing first few rows of data\r\n",
        "df.head()\r\n",
        "\r\n",
        "#plotting the data"
      ],
      "execution_count": null,
      "outputs": []
    }
  ]
}